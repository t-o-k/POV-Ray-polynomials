{
 "metadata": {
  "name": "",
  "signature": "sha256:af5fd00e200ba79124cbb4c8fa640f11fb259043ab69c480942203d9ee594184"
 },
 "nbformat": 3,
 "nbformat_minor": 0,
 "worksheets": [
  {
   "cells": [
    {
     "cell_type": "code",
     "collapsed": false,
     "input": [
      "# Tor Olav Kristensen, 2017-11-02\n",
      "# https://github.com/t-o-k, http://subcube.com, http://povray.org\n",
      "\n",
      "# Making POV-Ray statements for polynomial { }, poly { } and function { }\n",
      "# from SymPy expressions for polynomials\n",
      "\n",
      "# NB: Does only work for positive x-, y-, and z-exponents\n"
     ],
     "language": "python",
     "metadata": {},
     "outputs": [],
     "prompt_number": 1
    },
    {
     "cell_type": "code",
     "collapsed": false,
     "input": [
      "# POV-Ray documentation:\n",
      "\n",
      "# poly { }\n",
      "# 2.3.3.4 Poly Object\n",
      "# http://www.povray.org/documentation/3.7.0/r3_4.html#r3_4_5_3_2\n",
      "# http://www.povray.org/documentation/3.7.0/t2_3.html#t2_3_3_4\n",
      "    \n",
      "# http://www.povray.org/documentation/view/3.7.1/298/\n",
      "# http://www.povray.org/documentation/view/3.7.1/74/\n",
      "\n",
      "# polynomial { }\n",
      "\n",
      "# function { }\n",
      "# http://www.povray.org/documentation/view/3.7.2/231/\n",
      "# http://www.povray.org/documentation/3.7.0/r3_3.html#r3_3_1_8_3\n"
     ],
     "language": "python",
     "metadata": {},
     "outputs": [],
     "prompt_number": 2
    },
    {
     "cell_type": "code",
     "collapsed": false,
     "input": [
      "from sympy import *\n"
     ],
     "language": "python",
     "metadata": {},
     "outputs": [],
     "prompt_number": 3
    },
    {
     "cell_type": "code",
     "collapsed": false,
     "input": [
      "x, y, z = symbols('x y z')\n"
     ],
     "language": "python",
     "metadata": {},
     "outputs": [],
     "prompt_number": 4
    },
    {
     "cell_type": "code",
     "collapsed": false,
     "input": [
      "testExpressions = [ Integer(0), 0*x, 0, 5, x, 4*y, 3*z - 2, x*z, x**2*z + y**4*z - 2*x*y**2, x**2*pow(y, 3)*z*z*pow(z, 2) ]\n",
      "testParts = { (0, 4, 1): 1, (1, 2, 0): -2, (2, 0, 1): 1 }\n",
      "testTriples = [ (0, 0, 0), (0, 1, 0), (1, 2, 0), (2, 0, 1), (3, 2, 4) ]\n",
      "testStrings = [ '~~~~', 'y~~', 'xxxyy~~~', 'xxyyyzzzz' ]\n"
     ],
     "language": "python",
     "metadata": {},
     "outputs": [],
     "prompt_number": 5
    },
    {
     "cell_type": "code",
     "collapsed": false,
     "input": [
      "def makePowerExpression(triple):\n",
      "\n",
      "    i, j, k = triple\n",
      "    expr = pow(x, i)*pow(y, j)*pow(z, k)\n",
      "\n",
      "    return expr\n",
      "\n",
      "# end def makePowerExpression\n",
      "\n",
      "\n",
      "for triple in testTriples:\n",
      "    print(triple, '-->', makePowerExpression(triple))\n",
      "# end for\n"
     ],
     "language": "python",
     "metadata": {},
     "outputs": [
      {
       "output_type": "stream",
       "stream": "stdout",
       "text": [
        "(0, 0, 0) --> 1\n",
        "(0, 1, 0) --> y\n",
        "(1, 2, 0) --> x*y**2\n",
        "(2, 0, 1) --> x**2*z\n",
        "(3, 2, 4) --> x**3*y**2*z**4\n"
       ]
      }
     ],
     "prompt_number": 6
    },
    {
     "cell_type": "code",
     "collapsed": false,
     "input": [
      "def extractTriple(expr):\n",
      "\n",
      "    if isinstance(expr, (float, int)):\n",
      "        triple = (0, 0, 0)\n",
      "    else:\n",
      "        triple = \\\n",
      "            (expr.as_coeff_exponent(x)[1], expr.as_coeff_exponent(y)[1], expr.as_coeff_exponent(z)[1])\n",
      "    # end if\n",
      "\n",
      "    return triple\n",
      "\n",
      "# end def extractTriple\n",
      "\n",
      "\n",
      "for expr in testExpressions:\n",
      "    print(expr, '-->', extractTriple(expr))\n",
      "# end for\n"
     ],
     "language": "python",
     "metadata": {},
     "outputs": [
      {
       "output_type": "stream",
       "stream": "stdout",
       "text": [
        "0 --> (0, 0, 0)\n",
        "0 --> (0, 0, 0)\n",
        "0 --> (0, 0, 0)\n",
        "5 --> (0, 0, 0)\n",
        "x --> (1, 0, 0)\n",
        "4*y --> (0, 1, 0)\n",
        "3*z - 2 --> (0, 0, 0)\n",
        "x*z --> (1, 0, 1)\n",
        "x**2*z - 2*x*y**2 + y**4*z --> (0, 0, 0)\n",
        "x**2*y**3*z**4 --> (2, 3, 4)\n"
       ]
      }
     ],
     "prompt_number": 27
    },
    {
     "cell_type": "code",
     "collapsed": false,
     "input": [
      "def findOrder(parts):\n",
      "\n",
      "    if len(parts) > 0:\n",
      "        order = max(sum(triple) for triple in parts.keys())\n",
      "    else:\n",
      "        order = 0\n",
      "    # end if\n",
      "\n",
      "    return order\n",
      "\n",
      "# end def findOrder\n",
      "\n",
      "\n",
      "findOrder(testParts)\n"
     ],
     "language": "python",
     "metadata": {},
     "outputs": [
      {
       "metadata": {},
       "output_type": "pyout",
       "prompt_number": 8,
       "text": [
        "5"
       ]
      }
     ],
     "prompt_number": 8
    },
    {
     "cell_type": "code",
     "collapsed": false,
     "input": [
      "def extractParts(expr):\n",
      "\n",
      "    polynomial = expand(expr)\n",
      "    constantPart = polynomial.subs({ x: 0, y: 0, z: 0 })\n",
      "    coefficients = (polynomial - constantPart).as_coefficients_dict()\n",
      "    parts = { }\n",
      "    for expr, coeff in coefficients.items():\n",
      "        triple = extractTriple(expr)\n",
      "        parts[triple] = parts.get(triple, 0) + coeff*expr.subs({ x: 1, y: 1, z: 1 })\n",
      "    # end for\n",
      "    if constantPart != 0:\n",
      "        parts[(0, 0, 0)] = constantPart\n",
      "    # end if\n",
      "\n",
      "    return parts\n",
      "\n",
      "# end def extractParts\n",
      "\n",
      "\n",
      "for expr in testExpressions:\n",
      "    print(expr, '-->', extractParts(expr))\n",
      "# end for\n"
     ],
     "language": "python",
     "metadata": {},
     "outputs": [
      {
       "output_type": "stream",
       "stream": "stdout",
       "text": [
        "0 --> {(0, 0, 0): 0}\n",
        "0 --> {(0, 0, 0): 0}\n",
        "0 --> {(0, 0, 0): 0}\n",
        "5 --> {(0, 0, 0): 5}\n",
        "x --> {(1, 0, 0): 1}\n",
        "4*y --> {(0, 1, 0): 4}\n",
        "3*z - 2 --> {(0, 0, 0): -2, (0, 0, 1): 3}\n",
        "x*z --> {(1, 0, 1): 1}\n",
        "x**2*z - 2*x*y**2 + y**4*z --> {(0, 4, 1): 1, (1, 2, 0): -2, (2, 0, 1): 1}\n",
        "x**2*y**3*z**4 --> {(2, 3, 4): 1}\n"
       ]
      }
     ],
     "prompt_number": 9
    },
    {
     "cell_type": "code",
     "collapsed": false,
     "input": [
      "def makeSortedStrings(order):\n",
      "\n",
      "    powerRange = range(0, order + 1)\n",
      "    sortedStrings = \\\n",
      "        sorted(\n",
      "            (xn + yn + zn).ljust(order, '~')\n",
      "            for k, zn in enumerate('z'*n for n in powerRange)\n",
      "            for j, yn in enumerate('y'*n for n in powerRange)\n",
      "            for i, xn in enumerate('x'*n for n in powerRange)\n",
      "            if i + j + k <= order\n",
      "        )\n",
      "\n",
      "    return sortedStrings\n",
      "\n",
      "# end def makeSortedStrings\n",
      "\n",
      "\n",
      "makeSortedStrings(2)\n"
     ],
     "language": "python",
     "metadata": {},
     "outputs": [
      {
       "metadata": {},
       "output_type": "pyout",
       "prompt_number": 10,
       "text": [
        "['xx', 'xy', 'xz', 'x~', 'yy', 'yz', 'y~', 'zz', 'z~', '~~']"
       ]
      }
     ],
     "prompt_number": 10
    },
    {
     "cell_type": "code",
     "collapsed": false,
     "input": [
      "def count_xyz(string):\n",
      "\n",
      "    triple = (string.count('x'), string.count('y'), string.count('z'))\n",
      "\n",
      "    return triple\n",
      "\n",
      "# end def count_xyz\n",
      "\n",
      "\n",
      "for string in testStrings:\n",
      "    print(string, '-->', count_xyz(string))\n",
      "# end for\n"
     ],
     "language": "python",
     "metadata": {},
     "outputs": [
      {
       "output_type": "stream",
       "stream": "stdout",
       "text": [
        "~~~~ --> (0, 0, 0)\n",
        "y~~ --> (0, 1, 0)\n",
        "xxxyy~~~ --> (3, 2, 0)\n",
        "xxyyyzzzz --> (2, 3, 4)\n"
       ]
      }
     ],
     "prompt_number": 11
    },
    {
     "cell_type": "code",
     "collapsed": false,
     "input": [
      "def makeSortedTriples(order):\n",
      "\n",
      "    sortedTriples = list(map(count_xyz, makeSortedStrings(order)))\n",
      "\n",
      "    return sortedTriples\n",
      "\n",
      "# end def makeSortedTriples\n",
      "\n",
      "\n",
      "makeSortedTriples(2)\n"
     ],
     "language": "python",
     "metadata": {},
     "outputs": [
      {
       "metadata": {},
       "output_type": "pyout",
       "prompt_number": 12,
       "text": [
        "[(2, 0, 0),\n",
        " (1, 1, 0),\n",
        " (1, 0, 1),\n",
        " (1, 0, 0),\n",
        " (0, 2, 0),\n",
        " (0, 1, 1),\n",
        " (0, 1, 0),\n",
        " (0, 0, 2),\n",
        " (0, 0, 1),\n",
        " (0, 0, 0)]"
       ]
      }
     ],
     "prompt_number": 12
    },
    {
     "cell_type": "code",
     "collapsed": false,
     "input": [
      "def makePolynomialString(parts):\n",
      "\n",
      "    order = findOrder(parts)\n",
      "    stringParts = \\\n",
      "        [\n",
      "            'xyz' + str(triple) +': ' + str(parts[triple])\n",
      "            for triple in makeSortedTriples(order)\n",
      "            if triple in parts\n",
      "        ]\n",
      "    polynomialString = ', '.join(stringParts)\n",
      "    polynomialString = str(order) + ', ' + polynomialString\n",
      "    polynomialString = 'polynomial { ' + polynomialString + ' }'\n",
      "\n",
      "    return polynomialString\n",
      "\n",
      "# end def makePolynomialString\n",
      "\n",
      "\n",
      "makePolynomialString(testParts)\n"
     ],
     "language": "python",
     "metadata": {},
     "outputs": [
      {
       "metadata": {},
       "output_type": "pyout",
       "prompt_number": 28,
       "text": [
        "'polynomial { 5, xyz(2, 0, 1): 1, xyz(1, 2, 0): -2, xyz(0, 4, 1): 1 }'"
       ]
      }
     ],
     "prompt_number": 28
    },
    {
     "cell_type": "code",
     "collapsed": false,
     "input": [
      "def makePolyString(parts):\n",
      "\n",
      "    order = findOrder(parts)\n",
      "    polyCoeffs = \\\n",
      "        [\n",
      "            (parts[triple] if triple in parts else 0)\n",
      "            for triple in makeSortedTriples(order)\n",
      "        ]\n",
      "    polyString = ', '.join(map(str, polyCoeffs))\n",
      "    polyString = '<' + polyString + '>'\n",
      "    polyString = str(order) + ', ' + polyString\n",
      "    polyString = 'poly { ' + polyString + ' }'\n",
      "\n",
      "    return polyString\n",
      "\n",
      "# end def makePolyString\n",
      "\n",
      "\n",
      "makePolyString(testParts)\n"
     ],
     "language": "python",
     "metadata": {},
     "outputs": [
      {
       "metadata": {},
       "output_type": "pyout",
       "prompt_number": 29,
       "text": [
        "'poly { 5, <0, 0, 0, 0, 0, 0, 0, 0, 0, 0, 0, 0, 0, 0, 0, 0, 0, 0, 1, 0, 0, 0, 0, 0, 0, -2, 0, 0, 0, 0, 0, 0, 0, 0, 0, 0, 1, 0, 0, 0, 0, 0, 0, 0, 0, 0, 0, 0, 0, 0, 0, 0, 0, 0, 0, 0> }'"
       ]
      }
     ],
     "prompt_number": 29
    },
    {
     "cell_type": "code",
     "collapsed": false,
     "input": [
      "def makePowerString(triple):\n",
      "\n",
      "    factors = [ ]\n",
      "    for variable, exponent in zip('xyz', triple):\n",
      "        if exponent != 0:\n",
      "            if exponent == 1:\n",
      "                factors.append(variable)\n",
      "            else:\n",
      "                factors.append('pow(' + variable + ', ' + str(exponent) + ')')\n",
      "            # end if\n",
      "        # end if\n",
      "    # end for\n",
      "    if len(factors) == 0:\n",
      "        powerString = '1'\n",
      "    else:\n",
      "        powerString = '*'.join(factors)\n",
      "    # end if\n",
      "\n",
      "    return powerString\n",
      "\n",
      "# end def makePowerString\n",
      "\n",
      "\n",
      "for triple in testTriples:\n",
      "    print(triple, '-->', makePowerString(triple))\n",
      "# end for\n"
     ],
     "language": "python",
     "metadata": {},
     "outputs": [
      {
       "output_type": "stream",
       "stream": "stdout",
       "text": [
        "(0, 0, 0) --> 1\n",
        "(0, 1, 0) --> y\n",
        "(1, 2, 0) --> x*pow(y, 2)\n",
        "(2, 0, 1) --> pow(x, 2)*z\n",
        "(3, 2, 4) --> pow(x, 3)*pow(y, 2)*pow(z, 4)\n"
       ]
      }
     ],
     "prompt_number": 15
    },
    {
     "cell_type": "code",
     "collapsed": false,
     "input": [
      "def makeFunctionString(parts):\n",
      "    \n",
      "    order = findOrder(parts)\n",
      "    functionParts = [ ]\n",
      "    for triple in makeSortedTriples(order):\n",
      "        if triple in parts:\n",
      "            coeff = parts[triple]\n",
      "            coeffString = str(coeff)\n",
      "            if not isinstance(coeff, (Number, float, int)):\n",
      "                coeffString = '(' + coeffString + ')'\n",
      "            # end if\n",
      "            powerString = makePowerString(triple)\n",
      "            if powerString == '1':\n",
      "                functionParts.append(coeffString)\n",
      "            else:\n",
      "                if coeffString == '1':\n",
      "                    functionParts.append(powerString)\n",
      "                else:\n",
      "                    if coeffString == '-1':\n",
      "                        functionParts.append('-' + powerString)\n",
      "                    else:\n",
      "                        functionParts.append(coeffString + '*' + powerString)\n",
      "                    # enf if\n",
      "                # enf if\n",
      "            # end if\n",
      "        # end for\n",
      "    # end for\n",
      "    if len(functionParts) == 0:\n",
      "        functionString = '0'\n",
      "    else:\n",
      "        functionString = ' + '.join(functionParts)\n",
      "    # end if\n",
      "    functionString = 'function { ' + functionString + ' }'\n",
      "\n",
      "    return functionString\n",
      "\n",
      "# end def makeFunctionString\n",
      "\n",
      "\n",
      "makeFunctionString(testParts)\n"
     ],
     "language": "python",
     "metadata": {},
     "outputs": [
      {
       "metadata": {},
       "output_type": "pyout",
       "prompt_number": 30,
       "text": [
        "'function { pow(x, 2)*z + -2*x*pow(y, 2) + pow(y, 4)*z }'"
       ]
      }
     ],
     "prompt_number": 30
    },
    {
     "cell_type": "code",
     "collapsed": false,
     "input": [
      "def make_povrayStrings(expr):\n",
      "\n",
      "    parts = extractParts(expr)\n",
      "    povrayStrings = \\\n",
      "        {\n",
      "            'polynomial': makePolynomialString(parts),\n",
      "            'poly': makePolyString(parts),\n",
      "            'function': makeFunctionString(parts)\n",
      "        }\n",
      "\n",
      "    return povrayStrings\n",
      "\n",
      "# end def make_povrayStrings\n",
      "\n",
      "\n",
      "make_povrayStrings(x**2*z + y**4*z - 2*x*y**2)\n"
     ],
     "language": "python",
     "metadata": {},
     "outputs": [
      {
       "metadata": {},
       "output_type": "pyout",
       "prompt_number": 17,
       "text": [
        "{'polynomial': 'polynomial { 5, xyz(2, 0, 1): 1, xyz(1, 2, 0): -2, xyz(0, 4, 1): 1 }',\n",
        " 'function': 'function { pow(x, 2)*z + -2*x*pow(y, 2) + pow(y, 4)*z }',\n",
        " 'poly': 'poly { 5, <0, 0, 0, 0, 0, 0, 0, 0, 0, 0, 0, 0, 0, 0, 0, 0, 0, 0, 1, 0, 0, 0, 0, 0, 0, -2, 0, 0, 0, 0, 0, 0, 0, 0, 0, 0, 1, 0, 0, 0, 0, 0, 0, 0, 0, 0, 0, 0, 0, 0, 0, 0, 0, 0, 0, 0> }'}"
       ]
      }
     ],
     "prompt_number": 17
    },
    {
     "cell_type": "code",
     "collapsed": false,
     "input": [
      "def printPolynomial(expr):\n",
      "\n",
      "    print('Polynomial:', expand(expr))\n",
      "    print()\n",
      "    povrayStrings = make_povrayStrings(expr)\n",
      "    for name in [ 'polynomial', 'poly', 'function' ]:\n",
      "        print(povrayStrings[name])\n",
      "        print()\n",
      "    # end for\n",
      "\n",
      "# end def printPolynomial\n",
      "\n",
      "\n",
      "printPolynomial(x**2*z + y**4*z - 2*x*y**2)\n"
     ],
     "language": "python",
     "metadata": {},
     "outputs": [
      {
       "output_type": "stream",
       "stream": "stdout",
       "text": [
        "Polynomial: x**2*z - 2*x*y**2 + y**4*z\n",
        "\n",
        "polynomial { 5, xyz(2, 0, 1): 1, xyz(1, 2, 0): -2, xyz(0, 4, 1): 1 }\n",
        "\n",
        "poly { 5, <0, 0, 0, 0, 0, 0, 0, 0, 0, 0, 0, 0, 0, 0, 0, 0, 0, 0, 1, 0, 0, 0, 0, 0, 0, -2, 0, 0, 0, 0, 0, 0, 0, 0, 0, 0, 1, 0, 0, 0, 0, 0, 0, 0, 0, 0, 0, 0, 0, 0, 0, 0, 0, 0, 0, 0> }\n",
        "\n",
        "function { pow(x, 2)*z + -2*x*pow(y, 2) + pow(y, 4)*z }\n",
        "\n"
       ]
      }
     ],
     "prompt_number": 18
    },
    {
     "cell_type": "code",
     "collapsed": false,
     "input": [
      "# Functions for evaluation in POV-Ray only\n",
      "\n",
      "maxArgs  = 100  # For min() and max(). Increase as needed.\n",
      "\n",
      "# INT = Function('int', nargs=1)  # Problem --> Recursion error. See non optimal solution below.\n",
      "CEIL = Function('ceil', nargs=1)\n",
      "FLOOR = Function('floor', nargs=1)\n",
      "ABS = Function('abs', nargs=1)\n",
      "DIV = Function('div', nargs=2)\n",
      "MOD = Function('mod', nargs=2)\n",
      "SIN = Function('sin', nargs=1)\n",
      "COS = Function('cos', nargs=1)\n",
      "TAN = Function('tan', nargs=1)\n",
      "ASIN = Function('asin', nargs=1)\n",
      "ACOS = Function('acos', nargs=1)\n",
      "ATAN2 = Function('atan2', nargs=2)\n",
      "SINH = Function('sinh', nargs=1)\n",
      "COSH = Function('cosh', nargs=1)\n",
      "TANH = Function('tanh', nargs=1)\n",
      "ASINH = Function('asinh', nargs=1)\n",
      "ACOSH = Function('acosh', nargs=1)\n",
      "ATANH = Function('atanh', nargs=1)\n",
      "DEGREES = Function('degrees', nargs=1)\n",
      "RADIANS = Function('radians', nargs=1)\n",
      "RAND = Function('rand', nargs=1)\n",
      "SELECT = Function('select', nargs=(3, 4))\n",
      "MAX = Function('max', nargs=tuple(range(1, maxArgs+1)))\n",
      "MIN = Function('min', nargs=tuple(range(1, maxArgs+1)))\n",
      "SUM  = Function('sum', nargs=4)\n",
      "PROD  = Function('prod', nargs=4)\n",
      "LN = Function('ln', nargs=1)\n",
      "EXP = Function('exp', nargs=1)\n",
      "LOG = Function('log', nargs=1)\n",
      "SQRT = Function('sqrt', nargs=1)\n",
      "POW = Function('pow', nargs=2)\n",
      "\n",
      "pow(x, 2), POW(x, 2)\n"
     ],
     "language": "python",
     "metadata": {},
     "outputs": [
      {
       "metadata": {},
       "output_type": "pyout",
       "prompt_number": 19,
       "text": [
        "(x**2, pow(x, 2))"
       ]
      }
     ],
     "prompt_number": 19
    },
    {
     "cell_type": "code",
     "collapsed": false,
     "input": [
      "# Non optimal solution for int(). See problem above.\n",
      "def INT(variable):\n",
      "\n",
      "    return SELECT(variable, CEIL(variable), 0, FLOOR(variable))\n",
      "\n",
      "# end def INT\n",
      "\n",
      "\n",
      "INT(x**2 - 1)*INT(x**2 - 1)\n"
     ],
     "language": "python",
     "metadata": {},
     "outputs": [
      {
       "metadata": {},
       "output_type": "pyout",
       "prompt_number": 20,
       "text": [
        "select(x**2 - 1, ceil(x**2 - 1), 0, floor(x**2 - 1))**2"
       ]
      }
     ],
     "prompt_number": 20
    },
    {
     "cell_type": "code",
     "collapsed": false,
     "input": [
      "# If r is variable that will be declared in POV-Ray only,\n",
      "# it should defined like this: r = symbols('r').\n",
      "\n",
      "# Then in the code below:\n",
      "\n",
      "# - don't do this:\n",
      "#     r*r,\n",
      "#     r**2\n",
      "#     pow(r, 2)\n",
      "# - instead do this:\n",
      "#     POW(r, 2)\n",
      "\n",
      "# - don't do this:\n",
      "#     (r*x)**3\n",
      "#     pow(r*x, 3)\n",
      "#     POW(r*x, 3)\n",
      "# - instead do this:\n",
      "#     POW(r, 3)*x**3\n",
      "#     POW(r, 3)*pow(x, 3)\n",
      "\n",
      "# - don't do this:\n",
      "#     (x - r)**2\n",
      "#     pow(x - r, 2)\n",
      "#     POW(x - r, 2)\n",
      "# - instead do this:\n",
      "#     x**2 - 2*r*x + POW(r, 2)\n",
      "#     pow(x, 2) - 2*r*x + POW(r, 2)\n",
      "\n",
      "# - etc.\n"
     ],
     "language": "python",
     "metadata": {},
     "outputs": [],
     "prompt_number": 21
    },
    {
     "cell_type": "code",
     "collapsed": false,
     "input": [
      "polynomial = 1\n",
      "\n",
      "printPolynomial(polynomial)\n"
     ],
     "language": "python",
     "metadata": {},
     "outputs": [
      {
       "output_type": "stream",
       "stream": "stdout",
       "text": [
        "Polynomial: 1\n",
        "\n",
        "polynomial { 0, xyz(0, 0, 0): 1 }\n",
        "\n",
        "poly { 0, <1> }\n",
        "\n",
        "function { 1 }\n",
        "\n"
       ]
      }
     ],
     "prompt_number": 22
    },
    {
     "cell_type": "code",
     "collapsed": false,
     "input": [
      "polynomial = 2 - y\n",
      "\n",
      "printPolynomial(polynomial)\n"
     ],
     "language": "python",
     "metadata": {},
     "outputs": [
      {
       "output_type": "stream",
       "stream": "stdout",
       "text": [
        "Polynomial: -y + 2\n",
        "\n",
        "polynomial { 1, xyz(0, 1, 0): -1, xyz(0, 0, 0): 2 }\n",
        "\n",
        "poly { 1, <0, -1, 0, 2> }\n",
        "\n",
        "function { -y + 2 }\n",
        "\n"
       ]
      }
     ],
     "prompt_number": 23
    },
    {
     "cell_type": "code",
     "collapsed": false,
     "input": [
      "# Sphere with radius r\n",
      "\n",
      "r = symbols('r')\n",
      "\n",
      "polynomial = x**2 + y**2 - z**2 - POW(r, 2)\n",
      "\n",
      "printPolynomial(polynomial)\n"
     ],
     "language": "python",
     "metadata": {},
     "outputs": [
      {
       "output_type": "stream",
       "stream": "stdout",
       "text": [
        "Polynomial: x**2 + y**2 - z**2 - pow(r, 2)\n",
        "\n",
        "polynomial { 2, xyz(2, 0, 0): 1, xyz(0, 2, 0): 1, xyz(0, 0, 2): -1, xyz(0, 0, 0): -pow(r, 2) }\n",
        "\n",
        "poly { 2, <1, 0, 0, 0, 1, 0, 0, -1, 0, -pow(r, 2)> }\n",
        "\n",
        "function { pow(x, 2) + pow(y, 2) + -pow(z, 2) + (-pow(r, 2)) }\n",
        "\n"
       ]
      }
     ],
     "prompt_number": 24
    },
    {
     "cell_type": "code",
     "collapsed": false,
     "input": [
      "# Torus with major radius rMaj and minor radius rMin\n",
      "# (x^2 + y^2 + z^2 + rMaj^2 - rMin^2)^2 - 4*rMaj^2*(x^2 + y^2) = 0  # In xy-plane\n",
      "# (x^2 + y^2 + z^2 + rMaj^2 - rMin^2)^2 - 4*rMaj^2*(x^2 + z^2) = 0  # In xz-plane\n",
      "# (x^2 + y^2 + z^2 + rMaj^2 - rMin^2)^2 - 4*rMaj^2*(y^2 + z^2) = 0  # In yz-plane\n",
      "\n",
      "rMaj, rMin = symbols('rMaj rMin')\n",
      "\n",
      "# Alt = x**2 + y**2  # In xy-plane\n",
      "Alt = x**2 + z**2  # In xz-plane\n",
      "# Alt = y**2 + z**2  # In yz-plane\n",
      "\n",
      "polynomial = \\\n",
      "    (x**2 + y**2 + z**2)**2 \\\n",
      "    +2*(POW(rMaj, 2) - POW(rMin, 2))*(x**2 + y**2 + z**2) \\\n",
      "    -4*POW(rMaj, 2)*Alt \\\n",
      "    +POW(POW(rMaj, 2) - POW(rMin, 2), 2)\n",
      "\n",
      "printPolynomial(polynomial)\n",
      "\n",
      "# polynomial.free_symbols\n"
     ],
     "language": "python",
     "metadata": {},
     "outputs": [
      {
       "output_type": "stream",
       "stream": "stdout",
       "text": [
        "Polynomial: x**4 + 2*x**2*y**2 + 2*x**2*z**2 - 2*x**2*pow(rMaj, 2) - 2*x**2*pow(rMin, 2) + y**4 + 2*y**2*z**2 + 2*y**2*pow(rMaj, 2) - 2*y**2*pow(rMin, 2) + z**4 - 2*z**2*pow(rMaj, 2) - 2*z**2*pow(rMin, 2) + pow(pow(rMaj, 2) - pow(rMin, 2), 2)\n",
        "\n",
        "polynomial { 4, xyz(4, 0, 0): 1, xyz(2, 2, 0): 2, xyz(2, 0, 2): 2, xyz(2, 0, 0): -2*pow(rMaj, 2) - 2*pow(rMin, 2), xyz(0, 4, 0): 1, xyz(0, 2, 2): 2, xyz(0, 2, 0): 2*pow(rMaj, 2) - 2*pow(rMin, 2), xyz(0, 0, 4): 1, xyz(0, 0, 2): -2*pow(rMaj, 2) - 2*pow(rMin, 2), xyz(0, 0, 0): pow(pow(rMaj, 2) - pow(rMin, 2), 2) }"
       ]
      },
      {
       "output_type": "stream",
       "stream": "stdout",
       "text": [
        "\n",
        "\n",
        "poly { 4, <1, 0, 0, 0, 2, 0, 0, 2, 0, -2*pow(rMaj, 2) - 2*pow(rMin, 2), 0, 0, 0, 0, 0, 0, 0, 0, 0, 0, 1, 0, 0, 2, 0, 2*pow(rMaj, 2) - 2*pow(rMin, 2), 0, 0, 0, 0, 1, 0, -2*pow(rMaj, 2) - 2*pow(rMin, 2), 0, pow(pow(rMaj, 2) - pow(rMin, 2), 2)> }\n",
        "\n",
        "function { pow(x, 4) + 2*pow(x, 2)*pow(y, 2) + 2*pow(x, 2)*pow(z, 2) + (-2*pow(rMaj, 2) - 2*pow(rMin, 2))*pow(x, 2) + pow(y, 4) + 2*pow(y, 2)*pow(z, 2) + (2*pow(rMaj, 2) - 2*pow(rMin, 2))*pow(y, 2) + pow(z, 4) + (-2*pow(rMaj, 2) - 2*pow(rMin, 2))*pow(z, 2) + (pow(pow(rMaj, 2) - pow(rMin, 2), 2)) }\n",
        "\n"
       ]
      }
     ],
     "prompt_number": 25
    },
    {
     "cell_type": "code",
     "collapsed": false,
     "input": [],
     "language": "python",
     "metadata": {},
     "outputs": [],
     "prompt_number": 25
    }
   ],
   "metadata": {}
  }
 ]
}